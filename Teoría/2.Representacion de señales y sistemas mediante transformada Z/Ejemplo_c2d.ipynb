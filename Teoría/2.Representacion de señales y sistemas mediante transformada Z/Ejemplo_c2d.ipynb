{
 "cells": [
  {
   "cell_type": "code",
   "execution_count": 1,
   "metadata": {},
   "outputs": [],
   "source": [
    "import numpy as np\n",
    "from scipy import signal\n",
    "import matplotlib.pyplot as plt"
   ]
  },
  {
   "attachments": {},
   "cell_type": "markdown",
   "metadata": {},
   "source": [
    "Discretización de un sistema LTI de segundo orden"
   ]
  },
  {
   "cell_type": "code",
   "execution_count": 2,
   "metadata": {},
   "outputs": [],
   "source": [
    "# parámetros del sistema\n",
    "m = 30\n",
    "b = 20\n",
    "k = 50\n",
    "\n",
    "# Constantes de F. de transferencia\n",
    "b1 = b/m\n",
    "a1 = b1\n",
    "b2 = k/m\n",
    "a2 = b2\n",
    "num = [b1, b2]\n",
    "den = [1, b1, b2]\n"
   ]
  },
  {
   "cell_type": "code",
   "execution_count": 3,
   "metadata": {},
   "outputs": [],
   "source": [
    "Ts = 0.1 # Periodo de muestreo"
   ]
  },
  {
   "attachments": {},
   "cell_type": "markdown",
   "metadata": {},
   "source": [
    "Aplicando método zero-order holder (zoh)"
   ]
  },
  {
   "cell_type": "code",
   "execution_count": 11,
   "metadata": {},
   "outputs": [],
   "source": [
    "sys_dzoh = signal.cont2discrete((num,den),Ts)"
   ]
  },
  {
   "attachments": {},
   "cell_type": "markdown",
   "metadata": {},
   "source": [
    "Aplicando método de invarianza impulsional"
   ]
  },
  {
   "cell_type": "code",
   "execution_count": 14,
   "metadata": {},
   "outputs": [
    {
     "name": "stdout",
     "output_type": "stream",
     "text": [
      "(array([[ 6.66666667e-02, -5.00454971e-02,  3.33066907e-16]]), array([ 1.        , -1.91940611,  0.93550699]), 0.1)\n"
     ]
    }
   ],
   "source": [
    "sys_dimp = signal.cont2discrete((num,den),Ts,method='impulse')\n",
    "print(sys_dimp)"
   ]
  },
  {
   "attachments": {},
   "cell_type": "markdown",
   "metadata": {},
   "source": [
    "Aplicando método de Tustin"
   ]
  },
  {
   "cell_type": "code",
   "execution_count": 15,
   "metadata": {},
   "outputs": [
    {
     "name": "stdout",
     "output_type": "stream",
     "text": [
      "(array([[ 0.03614458,  0.00803213, -0.02811245]]), array([ 1.        , -1.91967871,  0.93574297]), 0.1)\n"
     ]
    }
   ],
   "source": [
    "sys_dtus = signal.cont2discrete((num,den),Ts,method='bilinear')\n",
    "print(sys_dtus)"
   ]
  }
 ],
 "metadata": {
  "kernelspec": {
   "display_name": "CyM_PDS",
   "language": "python",
   "name": "python3"
  },
  "language_info": {
   "codemirror_mode": {
    "name": "ipython",
    "version": 3
   },
   "file_extension": ".py",
   "mimetype": "text/x-python",
   "name": "python",
   "nbconvert_exporter": "python",
   "pygments_lexer": "ipython3",
   "version": "3.8.10"
  },
  "orig_nbformat": 4
 },
 "nbformat": 4,
 "nbformat_minor": 2
}
