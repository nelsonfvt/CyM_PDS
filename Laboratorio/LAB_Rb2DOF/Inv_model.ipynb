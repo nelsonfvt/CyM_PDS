{
 "cells": [
  {
   "cell_type": "code",
   "execution_count": 1,
   "metadata": {},
   "outputs": [],
   "source": [
    "import sys\n",
    "import numpy as np\n",
    "import math"
   ]
  },
  {
   "cell_type": "markdown",
   "metadata": {},
   "source": [
    "Vector con coordenadas del punto final del brazo. Se modifica para conocer los angulos de las articulaciones"
   ]
  },
  {
   "cell_type": "code",
   "execution_count": 2,
   "metadata": {},
   "outputs": [],
   "source": [
    "EF = np.array([20.0, 0.0])"
   ]
  },
  {
   "cell_type": "markdown",
   "metadata": {},
   "source": [
    "Parámetros del brazo\n",
    "\n",
    "a: longitud de eslabones\n",
    "d: desplazamiento entre sistemas de referencia\n",
    "Angs: angulos de las articulaciones"
   ]
  },
  {
   "cell_type": "code",
   "execution_count": 3,
   "metadata": {},
   "outputs": [],
   "source": [
    "a = np.array([10.0, 10.0])\n",
    "d = np.array([0.0, 0.0])\n",
    "Angs = np.array([0.0, 0.0])"
   ]
  },
  {
   "cell_type": "markdown",
   "metadata": {},
   "source": [
    "Cálculos de cinemática inversa"
   ]
  },
  {
   "cell_type": "code",
   "execution_count": 4,
   "metadata": {},
   "outputs": [],
   "source": [
    "c2 = (EF[0]**2 + EF[1]**2 -a[0]**2 -a[1]**2) / (2 * a[0] * a[1])\n",
    "Angs[1] = np.arccos(c2)\n",
    "\n",
    "alf = np.arctan2(EF[1],EF[0])\n",
    "bet = np.arccos( (a[0] + a[1]*c2) / (np.sqrt( EF[0]**2 + EF[1]**2 )) )\n",
    "\n",
    "Angs[0] = alf-bet"
   ]
  },
  {
   "cell_type": "markdown",
   "metadata": {},
   "source": [
    "Imprimiendo resultados (radianes)"
   ]
  },
  {
   "cell_type": "code",
   "execution_count": 5,
   "metadata": {},
   "outputs": [
    {
     "name": "stdout",
     "output_type": "stream",
     "text": [
      "[0. 0.]\n"
     ]
    }
   ],
   "source": [
    "print(Angs)"
   ]
  }
 ],
 "metadata": {
  "kernelspec": {
   "display_name": "CyM_PDS",
   "language": "python",
   "name": "python3"
  },
  "language_info": {
   "codemirror_mode": {
    "name": "ipython",
    "version": 3
   },
   "file_extension": ".py",
   "mimetype": "text/x-python",
   "name": "python",
   "nbconvert_exporter": "python",
   "pygments_lexer": "ipython3",
   "version": "3.10.12"
  }
 },
 "nbformat": 4,
 "nbformat_minor": 2
}
