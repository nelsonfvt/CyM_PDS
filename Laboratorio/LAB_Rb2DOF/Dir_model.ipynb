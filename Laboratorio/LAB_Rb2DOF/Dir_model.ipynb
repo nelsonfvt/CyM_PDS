{
 "cells": [
  {
   "cell_type": "code",
   "execution_count": 1,
   "metadata": {},
   "outputs": [],
   "source": [
    "import sys\n",
    "import numpy as np\n",
    "import math"
   ]
  },
  {
   "cell_type": "markdown",
   "metadata": {},
   "source": [
    "Definiendo parámetros del robot (geometría).\n",
    "\n",
    "Longitudes de los eslabones (a).\n",
    "\n",
    "Desplazamientos entre sistemas de referencia (d)."
   ]
  },
  {
   "cell_type": "code",
   "execution_count": 2,
   "metadata": {},
   "outputs": [],
   "source": [
    "a = np.array([10.0, 10.0])\n",
    "d = np.array([0.0, 0.0])\n",
    "alp = np.array([0.0, 0.0])"
   ]
  },
  {
   "cell_type": "markdown",
   "metadata": {},
   "source": [
    "Ángulos de las articulaciones (Angs) en radianes\n",
    "Este se modifica para conocer la posición del extremo del brazo"
   ]
  },
  {
   "cell_type": "code",
   "execution_count": 3,
   "metadata": {},
   "outputs": [],
   "source": [
    "Angs = np.array([0.0, 0.0])"
   ]
  },
  {
   "cell_type": "markdown",
   "metadata": {},
   "source": [
    "Creando las matrices de transfomacion entre articulaciones"
   ]
  },
  {
   "cell_type": "code",
   "execution_count": 4,
   "metadata": {},
   "outputs": [],
   "source": [
    "def Mx_hgne(ai,di,alpi,Ti):\n",
    "    Mx = np.array([\n",
    "        [math.cos(Ti), -math.sin(Ti)*math.cos(alpi), math.sin(Ti)*math.sin(alpi), ai*math.cos(Ti)],\n",
    "        [math.sin(Ti), math.cos(Ti)*math.cos(alpi), -math.cos(Ti)*math.sin(alpi), ai*math.sin(Ti)],\n",
    "        [0, math.sin(alpi), math.cos(alpi), di],\n",
    "        [0, 0, 0, 1]])\n",
    "    return Mx"
   ]
  },
  {
   "cell_type": "code",
   "execution_count": 5,
   "metadata": {},
   "outputs": [],
   "source": [
    "A01 = Mx_hgne(a[0], d[0], alp[0],Angs[0])\n",
    "A12 = Mx_hgne(a[1], d[1], alp[1],Angs[1])"
   ]
  },
  {
   "cell_type": "markdown",
   "metadata": {},
   "source": [
    "Obteniendo la matriz total y la posición del punto final"
   ]
  },
  {
   "cell_type": "code",
   "execution_count": 6,
   "metadata": {},
   "outputs": [
    {
     "name": "stdout",
     "output_type": "stream",
     "text": [
      "Posición del efector final: \n",
      "X: 20.0\n",
      "Y: 0.0\n"
     ]
    }
   ],
   "source": [
    "A02 = np.matmul(A01,A12)\n",
    "print('Posición del efector final: ')\n",
    "print('X: ' + str(A02[0,3]))\n",
    "print('Y: ' + str(A02[1,3]))"
   ]
  }
 ],
 "metadata": {
  "kernelspec": {
   "display_name": "CyM_PDS",
   "language": "python",
   "name": "python3"
  },
  "language_info": {
   "codemirror_mode": {
    "name": "ipython",
    "version": 3
   },
   "file_extension": ".py",
   "mimetype": "text/x-python",
   "name": "python",
   "nbconvert_exporter": "python",
   "pygments_lexer": "ipython3",
   "version": "3.10.12"
  }
 },
 "nbformat": 4,
 "nbformat_minor": 2
}
