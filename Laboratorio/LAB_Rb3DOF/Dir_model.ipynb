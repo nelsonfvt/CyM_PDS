{
 "cells": [
  {
   "attachments": {},
   "cell_type": "markdown",
   "metadata": {},
   "source": [
    "Importando librerias necesarias.\n",
    "\n",
    "numpy: Librería para manejo de arreglos y matrices.\n",
    "\n",
    "math: librería de matemáticas.\n"
   ]
  },
  {
   "cell_type": "code",
   "execution_count": 25,
   "metadata": {},
   "outputs": [],
   "source": [
    "import numpy as np\n",
    "import math"
   ]
  },
  {
   "attachments": {},
   "cell_type": "markdown",
   "metadata": {},
   "source": [
    "Definiendo parámetros del robot (geometría).\n",
    "\n",
    "Longitudes de los eslabones (a).\n",
    "\n",
    "Desplazamientos entre sistemas de referencia (d).\n",
    "\n",
    "Orienación entre sistemas de referencia (alp)\n"
   ]
  },
  {
   "cell_type": "code",
   "execution_count": 52,
   "metadata": {},
   "outputs": [],
   "source": [
    "a = np.array([0.0, 10.0, 10.0])\n",
    "d = np.array([0.0, 0.0, 0.0])\n",
    "alp = np.array([math.pi/2, 0.0, 0.0])"
   ]
  },
  {
   "attachments": {},
   "cell_type": "markdown",
   "metadata": {},
   "source": [
    "Ángulos de las artculaciones (T) en radianes.\n",
    "\n",
    "Este último es el que se debe modificar para cambiar la posición del robot\n"
   ]
  },
  {
   "cell_type": "code",
   "execution_count": 61,
   "metadata": {},
   "outputs": [],
   "source": [
    "T = np.array([0.0, 0.0, math.pi/2])"
   ]
  },
  {
   "cell_type": "markdown",
   "metadata": {},
   "source": [
    "Creando las matrices de transformación entre articulaciones"
   ]
  },
  {
   "cell_type": "code",
   "execution_count": 28,
   "metadata": {},
   "outputs": [],
   "source": [
    "def Mx_hgne(ai,di,alpi,Ti):\n",
    "    Mx = np.array([\n",
    "        [math.cos(Ti), -math.sin(Ti)*math.cos(alpi), math.sin(Ti)*math.sin(alpi), ai*math.cos(Ti)],\n",
    "        [math.sin(Ti), math.cos(Ti)*math.cos(alpi), -math.cos(Ti)*math.sin(alpi), ai*math.sin(Ti)],\n",
    "        [0, math.sin(alpi), math.cos(alpi), di],\n",
    "        [0, 0, 0, 1]])\n",
    "    return Mx"
   ]
  },
  {
   "cell_type": "code",
   "execution_count": 62,
   "metadata": {},
   "outputs": [],
   "source": [
    "A01 = Mx_hgne(a[0], d[0], alp[0],T[0])\n",
    "A12 = Mx_hgne(a[1], d[1], alp[1],T[1])\n",
    "A23 = Mx_hgne(a[2], d[2], alp[2],T[2])"
   ]
  },
  {
   "cell_type": "markdown",
   "metadata": {},
   "source": [
    "Obteniendo la matriz total del robot\n",
    "y a partir de ella la posición del efector final"
   ]
  },
  {
   "cell_type": "code",
   "execution_count": 63,
   "metadata": {},
   "outputs": [
    {
     "name": "stdout",
     "output_type": "stream",
     "text": [
      "Posición del efector final: \n",
      "X: 10.0\n",
      "Y: 6.123233995736766e-16\n",
      "Z: 10.0\n"
     ]
    }
   ],
   "source": [
    "A02 = np.matmul(A01,A12)\n",
    "A03 = np.matmul(A02,A23)\n",
    "print('Posición del efector final: ')\n",
    "print('X: ' + str(A03[0,3]))\n",
    "print('Y: ' + str(A03[1,3]))\n",
    "print('Z: ' + str(A03[2,3]))"
   ]
  }
 ],
 "metadata": {
  "kernelspec": {
   "display_name": "CyM_PDS",
   "language": "python",
   "name": "python3"
  },
  "language_info": {
   "codemirror_mode": {
    "name": "ipython",
    "version": 3
   },
   "file_extension": ".py",
   "mimetype": "text/x-python",
   "name": "python",
   "nbconvert_exporter": "python",
   "pygments_lexer": "ipython3",
   "version": "3.8.10"
  },
  "orig_nbformat": 4,
  "vscode": {
   "interpreter": {
    "hash": "94295edcfa6e337413632454ccf9ac8b9a697388acfd5fddb52606f15c0c3791"
   }
  }
 },
 "nbformat": 4,
 "nbformat_minor": 2
}
