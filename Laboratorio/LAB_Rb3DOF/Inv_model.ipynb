{
 "cells": [
  {
   "attachments": {},
   "cell_type": "markdown",
   "metadata": {},
   "source": [
    "Importando librerias necesarias.\n",
    "\n",
    "numpy: Librería para manejo de arreglos y matrices.\n",
    "\n",
    "math: Librería de matemáticas."
   ]
  },
  {
   "cell_type": "code",
   "execution_count": 72,
   "metadata": {},
   "outputs": [],
   "source": [
    "import numpy as np\n",
    "import math"
   ]
  },
  {
   "cell_type": "markdown",
   "metadata": {},
   "source": [
    "Vector con coordenadas del efector final del robot. Este se debe modificar para encontrar la configuración del robot"
   ]
  },
  {
   "cell_type": "code",
   "execution_count": 73,
   "metadata": {},
   "outputs": [],
   "source": [
    "EF = np.array([20.0, 0.0, 0.0])"
   ]
  },
  {
   "attachments": {},
   "cell_type": "markdown",
   "metadata": {},
   "source": [
    "Definiendo los parámetros (geometría) del robot. \n",
    "\n",
    "a: longitud de los eslabones.\n",
    "\n",
    "d: desplazamiento entre sistemas de referencia\n",
    "\n",
    "T: arreglo para almacenar los valores de los ángulos"
   ]
  },
  {
   "cell_type": "code",
   "execution_count": 74,
   "metadata": {},
   "outputs": [],
   "source": [
    "a = np.array([0.0, 10.0, 10.0])\n",
    "d = np.array([0.0, 0.0, 0.0])\n",
    "T = np.array([0.0, 0.0, 0.0])\n",
    "EF[2] = EF[2] - d[0]"
   ]
  },
  {
   "cell_type": "markdown",
   "metadata": {},
   "source": [
    "Aplicando Arcotangente2 para obtener el primer ángulo"
   ]
  },
  {
   "cell_type": "code",
   "execution_count": 75,
   "metadata": {},
   "outputs": [],
   "source": [
    "\n",
    "T[0] = np.arctan2(EF[1], EF[0])\n"
   ]
  },
  {
   "cell_type": "markdown",
   "metadata": {},
   "source": [
    "Calculado el ángulo de la tercera articulación.\n"
   ]
  },
  {
   "cell_type": "markdown",
   "metadata": {},
   "source": [
    "Cambiando el signo de la raiz cuadrada en s3 se peude cambiar la configuración del codo del robot"
   ]
  },
  {
   "cell_type": "code",
   "execution_count": 76,
   "metadata": {},
   "outputs": [],
   "source": [
    "\n",
    "c3 = ( EF[0]**2 + EF[1]**2 + EF[2]**2 -a[1]**2 -a[2]**2 ) / (2 * a[1] * a[2])\n",
    "s3 = math.sqrt(1 - c3**2) # positivo o negativo\n",
    "T[2] = np.arctan2(s3, c3)\n"
   ]
  },
  {
   "cell_type": "markdown",
   "metadata": {},
   "source": [
    "Caluclando el ángulo de la segunda articulación.\n"
   ]
  },
  {
   "cell_type": "code",
   "execution_count": 77,
   "metadata": {},
   "outputs": [
    {
     "name": "stdout",
     "output_type": "stream",
     "text": [
      "Ángulos de articulaciones:\n",
      "Primera articulación: 0.0 Grd\n",
      "Segunda articulación: 0.0 Grd\n",
      "Tercera articulación: 0.0 Grd\n"
     ]
    }
   ],
   "source": [
    "\n",
    "s2 = ( (a[1]+a[2]*c3)*EF[2] - a[2]*s3*math.sqrt(EF[0]**2 + EF[1]**2) ) / (EF[0]**2 + EF[1]**2 + EF[2]**2)\n",
    "c2 = ( (a[1]+a[2]*c3)*math.sqrt(EF[0]**2 + EF[1]**2 + a[2]*s3*EF[2]) ) / (EF[0]**2 + EF[1]**2 + EF[2]**2)\n",
    "T[1] = np.arctan2(s2, c2)\n",
    "print('Ángulos de articulaciones:')\n",
    "print('Primera articulación: ' + str((T[0]*180.0) / math.pi) + ' Grd')\n",
    "print('Segunda articulación: ' + str((T[1]*180.0) / math.pi) + ' Grd')\n",
    "print('Tercera articulación: ' + str((T[2]*180.0) / math.pi) + ' Grd')"
   ]
  }
 ],
 "metadata": {
  "kernelspec": {
   "display_name": "CyM_PDS",
   "language": "python",
   "name": "python3"
  },
  "language_info": {
   "codemirror_mode": {
    "name": "ipython",
    "version": 3
   },
   "file_extension": ".py",
   "mimetype": "text/x-python",
   "name": "python",
   "nbconvert_exporter": "python",
   "pygments_lexer": "ipython3",
   "version": "3.8.10"
  },
  "orig_nbformat": 4,
  "vscode": {
   "interpreter": {
    "hash": "94295edcfa6e337413632454ccf9ac8b9a697388acfd5fddb52606f15c0c3791"
   }
  }
 },
 "nbformat": 4,
 "nbformat_minor": 2
}
